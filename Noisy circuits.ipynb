{
 "cells": [
  {
   "cell_type": "markdown",
   "id": "phantom-musician",
   "metadata": {},
   "source": [
    "# Noisy circuits with Pennylane\n",
    "\n",
    "This notebook will follow the demostration given by Xanadu por using the Quantum Machine Learning tool Pennylane for simulate noisy quantum circuits which is available [here](https://pennylane.ai/qml/demos/tutorial_noisy_circuits.html)\n",
    "\n",
    "-------------\n",
    "\n",
    "Noise can be defined as any unwanted operation that is done over or circuit, this can be separated into **coherent noise** and **incoherent noise**.\n",
    "\n",
    "The coherent noise ocours when we don't apply the exact transformation we were expecting to apply. This means that the physical way in which we are doing the transformations is not absolutely exact. This errors commonly come from imperfect calibrated devices, so when we are trying to apply a gate for example a rotation of angle $\\phi$ this is really applying a rotarion of $\\phi + \\epsilon$.\n",
    "\n",
    "The incoherent noise is more problematic, because it came from interaction of our qubit with the enviorement. It is difficult to determine how this kind of  perturbations is going to change our system, so then this results in random rotarions of our qubits. an example can be given when we initialize a qubit in the $|0\\rangle$ state, if you do this several times you will find that approximately $1\\%$ of the times that qubit results to be flipped into the state $|1\\rangle$.\n",
    "\n",
    "Now we have de density matrix, this is a mathematical object which describes the quantum state of a system. This operator lets us to easily distinguish if a system is either in a pure or mixed state by calculating $Tr(\\rho^2)$. If $Tr(\\rho^2) = 1$ the system is in a pure state, if $Tr(\\rho^2)<1$ it is in a mixed one.\n",
    "\n",
    "Here we will learn a little bit about PennyLane's *default.mixed*. This is a device that provides support for mixed states and for simulating noisy computations. Let's simulate a Bell state $|\\psi\\rangle = \\frac{1}{\\sqrt{2}}\\left(|00\\rangle + |11\\rangle\\right)$. We ask the QNode to return the expectation value of $Z_0 \\otimes Z_1$"
   ]
  },
  {
   "cell_type": "code",
   "execution_count": 1,
   "id": "retired-horizontal",
   "metadata": {},
   "outputs": [],
   "source": [
    "# Let's import PennyLane's library\n",
    "import pennylane as qml\n",
    "from pennylane import numpy as np"
   ]
  },
  {
   "cell_type": "code",
   "execution_count": 3,
   "id": "center-least",
   "metadata": {},
   "outputs": [
    {
     "name": "stdout",
     "output_type": "stream",
     "text": [
      "Qnode output=1.0000\n"
     ]
    }
   ],
   "source": [
    "# I understand this is an initialization of a 2 qubit circuit\n",
    "dev = qml.device('default.mixed',wires=2)\n",
    "\n",
    "@qml.qnode(dev)\n",
    "\n",
    "def circuit():\n",
    "    \n",
    "    qml.Hadamard(wires=0)\n",
    "    qml.CNOT(wires=[0,1])\n",
    "    return qml.expval(qml.PauliZ(0)@qml.PauliZ(1))\n",
    "\n",
    "print(f\"Qnode output={circuit():.4f}\")"
   ]
  },
  {
   "cell_type": "markdown",
   "id": "accessory-donna",
   "metadata": {},
   "source": [
    "This decive stores the quantum state as a density matrix. In this case is the matrix associated to the Bell state."
   ]
  },
  {
   "cell_type": "code",
   "execution_count": 4,
   "id": "handmade-refrigerator",
   "metadata": {},
   "outputs": [
    {
     "name": "stdout",
     "output_type": "stream",
     "text": [
      "Output state matrix is = \n",
      "[[0.5 0.  0.  0.5]\n",
      " [0.  0.  0.  0. ]\n",
      " [0.  0.  0.  0. ]\n",
      " [0.5 0.  0.  0.5]]\n"
     ]
    }
   ],
   "source": [
    "print(f\"Output state matrix is = \\n{np.real(dev.state)}\")"
   ]
  },
  {
   "cell_type": "markdown",
   "id": "appointed-banana",
   "metadata": {},
   "source": [
    "Quantum chanels can be mathematically described as linear, completely positive and trace-preserving (CPTP) maps. This channels are used for noise modeling. A way to describe this channels is through Kraus operators $\\{K_i\\}$. This operators satisfy the condition $$\\sum_i K_i^\\dagger K_i = I$$.\n",
    "Given an initial state $\\rho$, the result after the action of a $\\Phi$ channel is\n",
    "$$\\Phi(\\rho) = \\sum_i K_i\\rho K_i^\\dagger$$"
   ]
  },
  {
   "cell_type": "markdown",
   "id": "numerical-sport",
   "metadata": {},
   "source": [
    "**Just like pure states are special cases of mixed states, unitary transformations are spacial cases of quantum channels**. Then the general description for the evolution of a quantum state should be given in terms of quantum channeld, which could take into account perturbations over the system, it means, energy loss due to interaction with the enviroment.\n",
    "Then unitary transformations  are represented by a **single** Kraus operator, then it is immediate that an unitary operator $U$ acts over a system transforming it into $U\\rho U^\\dagger$."
   ]
  },
  {
   "cell_type": "code",
   "execution_count": null,
   "id": "effective-library",
   "metadata": {},
   "outputs": [],
   "source": []
  }
 ],
 "metadata": {
  "kernelspec": {
   "display_name": "Python 3",
   "language": "python",
   "name": "python3"
  },
  "language_info": {
   "codemirror_mode": {
    "name": "ipython",
    "version": 3
   },
   "file_extension": ".py",
   "mimetype": "text/x-python",
   "name": "python",
   "nbconvert_exporter": "python",
   "pygments_lexer": "ipython3",
   "version": "3.8.5"
  }
 },
 "nbformat": 4,
 "nbformat_minor": 5
}
