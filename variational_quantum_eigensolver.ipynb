{
 "cells": [
  {
   "cell_type": "markdown",
   "id": "strong-retailer",
   "metadata": {},
   "source": [
    "# Variational Quantum Eigensolver\n",
    "\n",
    "This is a method used to find the quantum states of a quantum system using variational methods. Such as those used in analytical mechanics when you are minimizing the variation of an action. In this case we are going to use this method to find the ground state energy of a molecule following the [tutorial](https://pennylane.ai/qml/demos/tutorial_vqe.html) offered by Xanadú using PennyLane.\n",
    "\n",
    "In this example we are going to find the ground state wave function of the $H_2$ hydrogen molecule. This is going to be done starting from the ansatz $|\\Psi\\rangle = \\alpha|1100\\rangle + \\beta|0011\\rangle$. The obtention of this function is not clear for me at this moment. What I know is that this state will conserve certain type of antisymmetry since the two electrons involved must be represented by an antisymetrical function. This quantum state contemplates the spin state of the electrons and the orbitals that they are occupying, I think that is the reason why there are 4 quantum numbers.\n",
    "\n",
    "Now that we have an ansatz PennyLane is going to optimize the parameters $\\alpha$ and $\\beta$ in order to minimize the energy of the ground stated.\n"
   ]
  },
  {
   "cell_type": "markdown",
   "id": "double-dover",
   "metadata": {},
   "source": [
    "## Build the electronic Hamiltonian\n",
    "\n",
    "We import some libraries"
   ]
  },
  {
   "cell_type": "code",
   "execution_count": 1,
   "id": "olympic-trailer",
   "metadata": {},
   "outputs": [],
   "source": [
    "import pennylane as qml\n",
    "from pennylane import qchem\n",
    "from pennylane import numpy as np"
   ]
  },
  {
   "cell_type": "markdown",
   "id": "operational-tackle",
   "metadata": {},
   "source": [
    "Now we have to specify the properties of the molecular state that we want to calculate. For this we have to provide three thing:\n",
    "- The geometry\n",
    "    This implies that we have to specify the coordinates in space of the atoms that compose the molecule of interest. This can be done using an special type of file for chemistry with extension `.xyz`. This file contains a table of the coordinates of the molecule's atoms. There are several databases of this files. Personally I liked [SMART-SNS](http://smart.sns.it/molecules/) because it shows you the position of the atoms in space and you can easily rotate the structure in order to visualize the molecule.\n",
    "    \n",
    "- The charge\n",
    "    This charge represents the (integer) number of electrons that where added or removed from the neutral molecule. This could vary but, in most of the cases, the charge number will be 0.\n",
    "    \n",
    "- The multiplicity\n",
    "    Corresponds to the multiplicity of a degenerated energy level due to the spin states of the unpaired electrons in the molecule. It is defined in terms of the total spin angular momentum $S$ as $M = 2S + 1$. This represents all the possible spin states of the molecule, then, these states are degenerated states because they have the same energy. In this case all electrons are paired so the spin of these electrons is $0$, then, multiplicity is $1$.\n"
   ]
  },
  {
   "cell_type": "code",
   "execution_count": 2,
   "id": "seventh-somerset",
   "metadata": {},
   "outputs": [],
   "source": [
    "## Import the geometry file\n",
    "geometry = \"VQE_files/h2.xyz\"\n",
    "\n",
    "## Define the charge of unpaired electrons\n",
    "charge = 0\n",
    "\n",
    "## Define the multiplicity\n",
    "multiplicity = 1"
   ]
  },
  {
   "cell_type": "markdown",
   "id": "cosmetic-silence",
   "metadata": {},
   "source": [
    "There is an additional information that we have to provide to the algorithm. We have to specify the basis set used to approximate the atomic orbitals. This is a set of function that we can use to represent the wave function of the electrons in orther to turn the differential equation of the model into an algebraic equation using the Hartree-Fock approximation. In this case we are using the minimal basis STO-3g where a set of 3 gaussians (3g) represent an atomic Slater-type orbital (STO). That is why is called STO-3g."
   ]
  },
  {
   "cell_type": "code",
   "execution_count": 3,
   "id": "latter-measurement",
   "metadata": {},
   "outputs": [],
   "source": [
    "basis_set = 'sto-3g'"
   ]
  },
  {
   "cell_type": "markdown",
   "id": "mediterranean-stick",
   "metadata": {},
   "source": [
    "Now we have to compute the Hamiltonian of the molecule in the Pauli basis. This can be done using the PennyLane function `molecular_hamiltonian()`. The arguments of this function are the parameters that we have already specify with the additional information of the fermionic-to-qubit mapping. This maps quantum creation and annihilation operators into computational operators. For this example we are using the Jordan-Wigner transformation."
   ]
  },
  {
   "cell_type": "code",
   "execution_count": 5,
   "id": "atlantic-queens",
   "metadata": {},
   "outputs": [
    {
     "name": "stdout",
     "output_type": "stream",
     "text": [
      "Number of qubits =  4\n",
      "Hamiltonian is  (-0.04207897647782277) [I0]\n",
      "+ (0.17771287465139946) [Z0]\n",
      "+ (0.1777128746513994) [Z1]\n",
      "+ (-0.24274280513140462) [Z2]\n",
      "+ (-0.24274280513140462) [Z3]\n",
      "+ (0.17059738328801052) [Z0 Z1]\n",
      "+ (0.04475014401535161) [Y0 X1 X2 Y3]\n",
      "+ (-0.04475014401535161) [Y0 Y1 X2 X3]\n",
      "+ (-0.04475014401535161) [X0 X1 Y2 Y3]\n",
      "+ (0.04475014401535161) [X0 Y1 Y2 X3]\n",
      "+ (0.12293305056183801) [Z0 Z2]\n",
      "+ (0.1676831945771896) [Z0 Z3]\n",
      "+ (0.1676831945771896) [Z1 Z2]\n",
      "+ (0.12293305056183801) [Z1 Z3]\n",
      "+ (0.1762764080431959) [Z2 Z3]\n"
     ]
    }
   ],
   "source": [
    "## Here we extract the information of the xyz file\n",
    "symbols, coordinates = qchem.read_structure(geometry)\n",
    "\n",
    "## Now we compute the Hamiltonian and the ammount of qubits needed to simulate the molecule\n",
    "h, qubits = qchem.molecular_hamiltonian(\n",
    "symbols,\n",
    "coordinates,\n",
    "charge = charge,\n",
    "mult = multiplicity,\n",
    "basis = basis_set,\n",
    "active_electrons = 2,\n",
    "active_orbitals = 2,\n",
    "mapping = 'jordan_wigner')\n",
    "\n",
    "print('Number of qubits = ',qubits)\n",
    "print('Hamiltonian is ',h)"
   ]
  },
  {
   "cell_type": "markdown",
   "id": "abandoned-thing",
   "metadata": {},
   "source": [
    "## Implementing the VQE algorithm\n",
    "Now we are ready to implement the algorithm. PennyLane has a class called `Expvalcost`. This class is used to build up the cost function for a given Hamiltonian taking into account the circuit and the device in which the algorithm is going to be excecuted "
   ]
  },
  {
   "cell_type": "code",
   "execution_count": 8,
   "id": "funny-instrument",
   "metadata": {},
   "outputs": [],
   "source": [
    "## First we define the device\n",
    "dev = qml.device('default.qubit', wires=qubits)"
   ]
  },
  {
   "cell_type": "code",
   "execution_count": 10,
   "id": "fitting-accident",
   "metadata": {},
   "outputs": [],
   "source": [
    "## Now we define de circuit of the problem\n",
    "def circuit(params, wires):\n",
    "    qml.BasisState(np.array([1, 1, 0, 0], requires_grad=False), wires=wires)\n",
    "    for i in wires:\n",
    "        qml.Rot(*params[i], wires=i)\n",
    "    qml.CNOT(wires=[2, 3])\n",
    "    qml.CNOT(wires=[2, 0])\n",
    "    qml.CNOT(wires=[3, 1])"
   ]
  },
  {
   "cell_type": "markdown",
   "id": "laden-webmaster",
   "metadata": {},
   "source": [
    "Here we use the `ExpvalCost` class to find the cost function of this problem."
   ]
  },
  {
   "cell_type": "code",
   "execution_count": 11,
   "id": "dried-holocaust",
   "metadata": {},
   "outputs": [],
   "source": [
    "cost_fn = qml.ExpvalCost(circuit,h,dev)"
   ]
  },
  {
   "cell_type": "markdown",
   "id": "parental-norway",
   "metadata": {},
   "source": [
    "Here we define some random parameters to initialize the circuit"
   ]
  },
  {
   "cell_type": "code",
   "execution_count": 12,
   "id": "activated-sydney",
   "metadata": {},
   "outputs": [
    {
     "name": "stdout",
     "output_type": "stream",
     "text": [
      "[[ 5.54193389  1.25713095  3.07479606]\n",
      " [ 7.03997361  5.86710646 -3.07020901]\n",
      " [ 2.98479079 -0.47550269 -0.32427159]\n",
      " [ 1.28993324  0.45252622  4.56873497]]\n"
     ]
    }
   ],
   "source": [
    "opt = qml.GradientDescentOptimizer(stepsize=0.4)\n",
    "np.random.seed(0)\n",
    "params = np.random.normal(0,np.pi,(qubits, 3))\n",
    "\n",
    "print(params)"
   ]
  },
  {
   "cell_type": "markdown",
   "id": "explicit-shopping",
   "metadata": {},
   "source": [
    "We define a maximum of 200 steps to reach a convergence tolerance of $\\approx 10^{-6}$"
   ]
  },
  {
   "cell_type": "code",
   "execution_count": 13,
   "id": "decent-directive",
   "metadata": {},
   "outputs": [
    {
     "name": "stdout",
     "output_type": "stream",
     "text": [
      "iteration = 0, Energy = -0.88179557 Ha\n",
      "iteration = 20, Energy = -1.13380513 Ha\n",
      "iteration = 40, Energy = -1.13558756 Ha\n",
      "iteration = 60, Energy = -1.13585794 Ha\n",
      "iteration = 80, Energy = -1.13600617 Ha\n",
      "iteration = 100, Energy = -1.13608848 Ha\n",
      "iteration = 120, Energy = -1.13613394 Ha\n",
      "\n",
      "Final convergence parameter = 0.00000099 Ha\n",
      "final value of the ground-state energy = -1.13615709 Ha\n",
      "Accuracy with respect to the FCI energy: 0.00003237 Ha (0.02031093 kcal/mol)\n",
      "\n",
      "Final circuit parameters = \n",
      " [[ 5.54193389e+00  1.30219523e-08  3.07479606e+00]\n",
      " [ 7.03997361e+00  6.28318530e+00 -3.07020901e+00]\n",
      " [ 2.98479079e+00 -2.09540998e-01 -4.16893297e-02]\n",
      " [ 1.28993324e+00  1.30907639e-12  4.56873497e+00]]\n"
     ]
    }
   ],
   "source": [
    "max_iterations = 200\n",
    "conv_tol = 1e-06\n",
    "\n",
    "for n in range(max_iterations):\n",
    "    params, prev_energy = opt.step_and_cost(cost_fn, params)\n",
    "    energy = cost_fn(params)\n",
    "    conv = np.abs(energy - prev_energy)\n",
    "    \n",
    "    if n%20 == 0:\n",
    "        print('iteration = {:}, Energy = {:.8f} Ha'.format(n, energy))\n",
    "    \n",
    "    if conv<= conv_tol:\n",
    "        break\n",
    "        \n",
    "print()\n",
    "print('Final convergence parameter = {:.8f} Ha'.format(conv))\n",
    "print('final value of the ground-state energy = {:.8f} Ha'.format(energy))\n",
    "print('Accuracy with respect to the FCI energy: {:.8f} Ha ({:.8f} kcal/mol)'.format(\n",
    "    np.abs(energy - (- 1.136189454088)), np.abs(energy - (- 1.136189454088))*627.503\n",
    "    )\n",
    ")\n",
    "print()\n",
    "\n",
    "print('Final circuit parameters = \\n', params)"
   ]
  },
  {
   "cell_type": "code",
   "execution_count": null,
   "id": "subject-witness",
   "metadata": {},
   "outputs": [],
   "source": []
  }
 ],
 "metadata": {
  "kernelspec": {
   "display_name": "Python 3",
   "language": "python",
   "name": "python3"
  },
  "language_info": {
   "codemirror_mode": {
    "name": "ipython",
    "version": 3
   },
   "file_extension": ".py",
   "mimetype": "text/x-python",
   "name": "python",
   "nbconvert_exporter": "python",
   "pygments_lexer": "ipython3",
   "version": "3.8.5"
  }
 },
 "nbformat": 4,
 "nbformat_minor": 5
}
