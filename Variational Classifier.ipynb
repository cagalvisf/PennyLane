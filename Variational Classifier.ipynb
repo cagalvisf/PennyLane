{
 "cells": [
  {
   "cell_type": "markdown",
   "id": "static-interest",
   "metadata": {},
   "source": [
    "# Variational classifier with PennyLane\n",
    "\n",
    "This is a [Xanadu tutorial](https://pennylane.ai/qml/demos/tutorial_variational_classifier.html) for PennyLane's library wich has the purpose to implement a variational quantum classifier. Here we will train a quantum circuit with labelled data and then use it to classify new data.\n",
    "\n",
    "It can be shown that de variational quantum classifier can reproduce the parity function\n",
    "\n",
    "$$f : x\\in \\{0,1\\} ^{\\otimes n} \\rightarrow y = \\left\\{\\begin{array}{lll}\n",
    "1& \\text{if uneven number of ones in } x\\\\\n",
    "0 &\\text{otherwise}\n",
    "\\end{array} \\right.$$\n",
    "\n",
    "I think this parity function is not unique, so then we could construct the function depending on what we would like to classify.\n",
    "\n",
    "Here it is shown how to encode real vectors as amplitud vectors, this is called amplitude encoding, and with this we can train the model to recognize the first two classes of flowers in the Iris dataset.\n",
    "\n",
    "--------\n",
    "\n",
    "We begin by importing the libraries"
   ]
  },
  {
   "cell_type": "code",
   "execution_count": 1,
   "id": "skilled-gasoline",
   "metadata": {},
   "outputs": [],
   "source": [
    "import pennylane as qml\n",
    "from pennylane import numpy as np\n",
    "from pennylane.optimize import NesterovMomentumOptimizer"
   ]
  },
  {
   "cell_type": "code",
   "execution_count": 2,
   "id": "documented-partnership",
   "metadata": {},
   "outputs": [],
   "source": [
    "# We now initialice a quantum circuit with 4 qubits\n",
    "dev = qml.device(\"default.qubit\", wires = 4)"
   ]
  },
  {
   "cell_type": "markdown",
   "id": "marine-demonstration",
   "metadata": {},
   "source": [
    "Now we have to define our layer or block. This is an elementary circuit architecture that is repeated to build the variational circuit. This layers can be modified according on what we need. The Layer proposed in this guide consist on arbitrary rotations on each qubit as well as CNOT gates that entangle each qubit with its neightbours."
   ]
  },
  {
   "cell_type": "code",
   "execution_count": 3,
   "id": "deluxe-salad",
   "metadata": {},
   "outputs": [],
   "source": [
    "def layer(W):\n",
    "    #qml.Rot(\\phi,\\theta,\\omega,wire)\n",
    "    qml.Rot(W[0, 0], W[0, 1], W[0, 2], wires=0)\n",
    "    qml.Rot(W[1, 0], W[1, 1], W[1, 2], wires=1)\n",
    "    qml.Rot(W[2, 0], W[2, 1], W[2, 2], wires=2)\n",
    "    qml.Rot(W[3, 0], W[3, 1], W[3, 2], wires=3)\n",
    "\n",
    "    qml.CNOT(wires=[0, 1])\n",
    "    qml.CNOT(wires=[1, 2])\n",
    "    qml.CNOT(wires=[2, 3])\n",
    "    qml.CNOT(wires=[3, 0])"
   ]
  },
  {
   "cell_type": "markdown",
   "id": "special-medicare",
   "metadata": {},
   "source": [
    "Now we have to find the way to encode data inputs $x$ into the circuit, then, we have to define a quantum state of qubits which represents the $x$ imput. In this case the inputs are bitstrings, so directly they define\n",
    "$$ x = 0101 \\rightarrow |\\psi\\rangle = |0101\\rangle $$\n",
    "There is a function called BasisState. Which prepares n wires in a given list of zeros and ones."
   ]
  },
  {
   "cell_type": "code",
   "execution_count": 4,
   "id": "unlike-graduate",
   "metadata": {},
   "outputs": [],
   "source": [
    "def statePreparation(x):\n",
    "    #x is a np.array, for example [0,0,1,1]\n",
    "    #the function prepares the wires in the state |0011>\n",
    "    \n",
    "    qml.BasisState(x, wires=[0, 1, 2, 3])"
   ]
  },
  {
   "cell_type": "markdown",
   "id": "mediterranean-baltimore",
   "metadata": {},
   "source": [
    "Now a Qnode is defined as a routine for the state preparation, followed by a repetition of the layer structure. So, given a determined amount of weights (which are the analogous of the $\\theta$ parameters) the layer is repeated using each of this weights."
   ]
  },
  {
   "cell_type": "code",
   "execution_count": 5,
   "id": "floppy-funds",
   "metadata": {},
   "outputs": [],
   "source": [
    "@qml.qnode(dev)\n",
    "def circuit(weights,x):\n",
    "    \n",
    "    \n",
    "    statePreparation(x)\n",
    "    \n",
    "    for W in weights:\n",
    "        layer(W)\n",
    "        \n",
    "    return qml.expval(qml.PauliZ(0))"
   ]
  },
  {
   "cell_type": "markdown",
   "id": "together-macedonia",
   "metadata": {},
   "source": [
    "In this case we are giving to the Qnode the data as a keyword argument x. This Keyword arguments are fixed when calculating a gradient, this means that the traning is done over the weights!!\n",
    "\n",
    "Also we can add a \"classical\" bias, this is the amount of error from the algorithm to predict some value, it is important to take into account that low bias does not necessarily means that the algorithm is good, since when there is an overfitted algorithm the bias tends to 0. So now we built up the classifier, var will have the variables that we need, this is the weights and the bias, then we put all together in the ciruit to generate the classification. "
   ]
  },
  {
   "cell_type": "code",
   "execution_count": 6,
   "id": "grand-uzbekistan",
   "metadata": {},
   "outputs": [],
   "source": [
    "def variational_classifier(var, x):\n",
    "    \n",
    "    weights = var[0]\n",
    "    bias = var[1]\n",
    "    return circuit(weights, x) + bias\n"
   ]
  },
  {
   "cell_type": "markdown",
   "id": "chubby-oakland",
   "metadata": {},
   "source": [
    "## Cost\n",
    "\n",
    "Now we calculate the cost function or the Residual Sum Squares (RSS), this is the parameter that shows the error between the predicted and the real value of a datapoint first we calculate the swuare loss between real labels and predictions"
   ]
  },
  {
   "cell_type": "code",
   "execution_count": 7,
   "id": "expensive-interview",
   "metadata": {},
   "outputs": [],
   "source": [
    "def square_loss(labels, predictions):\n",
    "    loss = 0\n",
    "    for l, p in zip(labels, predictions):\n",
    "        loss = loss + (l - p) ** 2\n",
    "\n",
    "    loss = loss / len(labels)\n",
    "    return loss"
   ]
  },
  {
   "cell_type": "markdown",
   "id": "female-authority",
   "metadata": {},
   "source": [
    "Now we can define de accuracy function, this function will give us the percentage of correctly predicted labels \n"
   ]
  },
  {
   "cell_type": "code",
   "execution_count": 8,
   "id": "bizarre-watson",
   "metadata": {},
   "outputs": [],
   "source": [
    "def accuracy(labels, predictions):\n",
    "\n",
    "    loss = 0\n",
    "    for l, p in zip(labels, predictions):\n",
    "        if abs(l - p) < 1e-5:\n",
    "            loss = loss + 1\n",
    "    loss = loss / len(labels)\n",
    "\n",
    "    return loss\n",
    "    "
   ]
  },
  {
   "cell_type": "markdown",
   "id": "republican-prophet",
   "metadata": {},
   "source": [
    "Now we calculate the cost function as the square loss between the real labels and the predictions from the algorithm"
   ]
  },
  {
   "cell_type": "code",
   "execution_count": 9,
   "id": "optical-pizza",
   "metadata": {},
   "outputs": [],
   "source": [
    "def cost(var, X, Y):\n",
    "    predictions = [variational_classifier(var, x) for x in X]\n",
    "    return square_loss(Y, predictions)\n"
   ]
  },
  {
   "cell_type": "markdown",
   "id": "exciting-square",
   "metadata": {},
   "source": [
    "# Optimization\n",
    "\n",
    "Here we are going to load the data from the file `variational_classifier/data/parity.txt`. This data has five columns where, the first four contain the information of the stat, this means the $x$ that we define earlier, and the fifth column is $1$ if $x$ has an uneven numer of ones or $0$ otherwise "
   ]
  },
  {
   "cell_type": "code",
   "execution_count": 10,
   "id": "governing-treatment",
   "metadata": {},
   "outputs": [
    {
     "name": "stdout",
     "output_type": "stream",
     "text": [
      "X = [0. 0. 0. 0.], Y = -1\n",
      "X = [0. 0. 0. 1.], Y =  1\n",
      "X = [0. 0. 1. 0.], Y =  1\n",
      "X = [0. 0. 1. 1.], Y = -1\n",
      "X = [0. 1. 0. 0.], Y =  1\n",
      "...\n"
     ]
    }
   ],
   "source": [
    "data = np.loadtxt(\"variational_classifier/data/parity.txt\")\n",
    "X = np.array(data[:, :-1], requires_grad=False)\n",
    "Y = np.array(data[:, -1], requires_grad=False)\n",
    "Y = Y * 2 - np.ones(len(Y))  # shift label from {0, 1} to {-1, 1}\n",
    "\n",
    "for i in range(5):\n",
    "    print(\"X = {}, Y = {: d}\".format(X[i], int(Y[i])))\n",
    "\n",
    "print(\"...\")"
   ]
  },
  {
   "cell_type": "markdown",
   "id": "floating-transcription",
   "metadata": {},
   "source": [
    "Now we initialize random variables in order to test the algorithm. Here we generate random numbers where the first one is the bias and the other are going to be the weights."
   ]
  },
  {
   "cell_type": "code",
   "execution_count": 11,
   "id": "competitive-ultimate",
   "metadata": {},
   "outputs": [
    {
     "name": "stdout",
     "output_type": "stream",
     "text": [
      "(tensor([[[ 0.01764052,  0.00400157,  0.00978738],\n",
      "         [ 0.02240893,  0.01867558, -0.00977278],\n",
      "         [ 0.00950088, -0.00151357, -0.00103219],\n",
      "         [ 0.00410599,  0.00144044,  0.01454274]],\n",
      "\n",
      "        [[ 0.00761038,  0.00121675,  0.00443863],\n",
      "         [ 0.00333674,  0.01494079, -0.00205158],\n",
      "         [ 0.00313068, -0.00854096, -0.0255299 ],\n",
      "         [ 0.00653619,  0.00864436, -0.00742165]]], requires_grad=True), 0.0)\n"
     ]
    }
   ],
   "source": [
    "np.random.seed(0)\n",
    "num_qubits = 4\n",
    "num_layers = 2\n",
    "var_init = (0.01 * np.random.randn(num_layers, num_qubits, 3), 0.0)\n",
    "\n",
    "print(var_init)"
   ]
  },
  {
   "cell_type": "markdown",
   "id": "decent-synthetic",
   "metadata": {},
   "source": [
    "Next step is to create the optimizer, this is provide by PannyLane as  [`NesterovMomentumOptimizer`](https://pennylane.readthedocs.io/en/stable/code/api/pennylane.NesterovMomentumOptimizer.html#pennylane.NesterovMomentumOptimizer). This is a class that optimize the gradien-descent algorithm using what is called the Nesterov momentum. Then we define the batch_size and train the optimizer."
   ]
  },
  {
   "cell_type": "code",
   "execution_count": 12,
   "id": "common-cedar",
   "metadata": {},
   "outputs": [],
   "source": [
    "opt = NesterovMomentumOptimizer(0.5)\n",
    "batch_size = 5"
   ]
  },
  {
   "cell_type": "markdown",
   "id": "sudden-sewing",
   "metadata": {},
   "source": [
    "Here we are going to look at the accuracy of the algorithm, taking the correctly classified data. For this we first compute what should be the correct output and then we take the prediction as follows"
   ]
  },
  {
   "cell_type": "code",
   "execution_count": 13,
   "id": "aging-aerospace",
   "metadata": {},
   "outputs": [
    {
     "name": "stdout",
     "output_type": "stream",
     "text": [
      "Iter:     1 | Cost: 3.4355534 | Accuracy: 0.5000000 \n",
      "Iter:     2 | Cost: 1.9287800 | Accuracy: 0.5000000 \n",
      "Iter:     3 | Cost: 2.0341238 | Accuracy: 0.5000000 \n",
      "Iter:     4 | Cost: 1.6372574 | Accuracy: 0.5000000 \n",
      "Iter:     5 | Cost: 1.3025395 | Accuracy: 0.6250000 \n",
      "Iter:     6 | Cost: 1.4555019 | Accuracy: 0.3750000 \n",
      "Iter:     7 | Cost: 1.4492786 | Accuracy: 0.5000000 \n",
      "Iter:     8 | Cost: 0.6510286 | Accuracy: 0.8750000 \n",
      "Iter:     9 | Cost: 0.0566074 | Accuracy: 1.0000000 \n",
      "Iter:    10 | Cost: 0.0053045 | Accuracy: 1.0000000 \n",
      "Iter:    11 | Cost: 0.0809483 | Accuracy: 1.0000000 \n",
      "Iter:    12 | Cost: 0.1115426 | Accuracy: 1.0000000 \n",
      "Iter:    13 | Cost: 0.1460257 | Accuracy: 1.0000000 \n",
      "Iter:    14 | Cost: 0.0877037 | Accuracy: 1.0000000 \n",
      "Iter:    15 | Cost: 0.0361311 | Accuracy: 1.0000000 \n",
      "Iter:    16 | Cost: 0.0040937 | Accuracy: 1.0000000 \n",
      "Iter:    17 | Cost: 0.0004899 | Accuracy: 1.0000000 \n",
      "Iter:    18 | Cost: 0.0005290 | Accuracy: 1.0000000 \n",
      "Iter:    19 | Cost: 0.0024304 | Accuracy: 1.0000000 \n",
      "Iter:    20 | Cost: 0.0062137 | Accuracy: 1.0000000 \n",
      "Iter:    21 | Cost: 0.0088864 | Accuracy: 1.0000000 \n",
      "Iter:    22 | Cost: 0.0201912 | Accuracy: 1.0000000 \n",
      "Iter:    23 | Cost: 0.0060335 | Accuracy: 1.0000000 \n",
      "Iter:    24 | Cost: 0.0036153 | Accuracy: 1.0000000 \n",
      "Iter:    25 | Cost: 0.0012741 | Accuracy: 1.0000000 \n",
      "Iter:    26 | Cost: 0.0000763 | Accuracy: 1.0000000 \n",
      "Iter:    27 | Cost: 0.0000155 | Accuracy: 1.0000000 \n",
      "Iter:    28 | Cost: 0.0000412 | Accuracy: 1.0000000 \n",
      "Iter:    29 | Cost: 0.0002001 | Accuracy: 1.0000000 \n",
      "Iter:    30 | Cost: 0.0004476 | Accuracy: 1.0000000 \n",
      "Iter:    31 | Cost: 0.0008797 | Accuracy: 1.0000000 \n",
      "Iter:    32 | Cost: 0.0013094 | Accuracy: 1.0000000 \n",
      "Iter:    33 | Cost: 0.0015687 | Accuracy: 1.0000000 \n",
      "Iter:    34 | Cost: 0.0015663 | Accuracy: 1.0000000 \n",
      "Iter:    35 | Cost: 0.0013548 | Accuracy: 1.0000000 \n"
     ]
    }
   ],
   "source": [
    "var = var_init\n",
    "\n",
    "for it in range(35):\n",
    "        \n",
    "        batch_index = np.random.randint(0, len(X), (batch_size,))\n",
    "        # Take 5 random arrays of x, i.e. the form [0,1,0,0]\n",
    "        X_batch = X[batch_index]\n",
    "        \n",
    "        # Has the answers of the previous x\n",
    "        Y_batch = Y[batch_index]\n",
    "        \n",
    "        # Computes the cost function in order to optimize it\n",
    "        var = opt.step(lambda v: cost(v, X_batch, Y_batch), var)\n",
    "        \n",
    "        # Compute the accuracy\n",
    "        predictions = [np.sign(variational_classifier(var, x)) for x in X]\n",
    "        acc = accuracy(Y, predictions)\n",
    "\n",
    "        \n",
    "        print(\n",
    "        \"Iter: {:5d} | Cost: {:0.7f} | Accuracy: {:0.7f} \".format(\n",
    "            it + 1, cost(var, X, Y), acc\n",
    "        )\n",
    "        )\n",
    "        "
   ]
  },
  {
   "cell_type": "markdown",
   "id": "overall-instrument",
   "metadata": {},
   "source": [
    "As you can see, the cost function which is related to the diference between the predictions and the true labels decrease along the iterations, showing that the algorithm is effectively making better predictions each time. Also we can see the accuracy increasing, showing us, again, that the algorithm is working."
   ]
  },
  {
   "cell_type": "markdown",
   "id": "nearby-weather",
   "metadata": {},
   "source": [
    "# Iris classification\n",
    "\n",
    "Here we'll be able to encode real-valued vectors into quantum states. This technique is frequantly used for representing images or real data as quantum states. We are going to use a 2-qubit simulator."
   ]
  },
  {
   "cell_type": "code",
   "execution_count": 14,
   "id": "outside-medication",
   "metadata": {},
   "outputs": [],
   "source": [
    "dev = qml.device(\"default.qubit\", wires = 2)"
   ]
  },
  {
   "cell_type": "markdown",
   "id": "solar-trick",
   "metadata": {},
   "source": [
    "The vector that contains the information to be classified will be encoded using what we known as amplitude enconding. Here se vector $\\mathbf{x} = (x_1,x_2,...,x_n)$ is encoded into a quantum state $|x> = x_1|e_1> + x_2 |e_2> + ... + x_n|e_n>$, with $|e_i>$ basis of a Hilbert space with the necessary dimension to encode $\\mathbf{x}$. This can be done using the technique employed by [Schuld and Petruccione](https://link.springer.com/book/10.1007/978-3-319-96424-9). To do this, we think about the state $|x>$ and look for a transformation which $|x> \\rightarrow |e_1>$ then we invert this transformatios to have $|e_1> \\rightarrow |x>$ so we can take the standard initial state of the n qubits into the desire $|x>$ state. This can be seen in more detail in [Möttönen, et al.](https://arxiv.org/pdf/quant-ph/0407010.pdf)."
   ]
  },
  {
   "cell_type": "code",
   "execution_count": 17,
   "id": "elegant-bundle",
   "metadata": {},
   "outputs": [],
   "source": [
    "## First, the angles of the transformation\n",
    "\n",
    "def get_angles(x):\n",
    "    \n",
    "    beta0 = 2 * np.arcsin(np.sqrt(x[1] ** 2) / np.sqrt(x[0] ** 2 + x[1] ** 2 + 1e-12))\n",
    "    beta1 = 2 * np.arcsin(np.sqrt(x[3] ** 2) / np.sqrt(x[2] ** 2 + x[3] ** 2 + 1e-12))\n",
    "    beta2 = 2 * np.arcsin(\n",
    "        np.sqrt(x[2] ** 2 + x[3] ** 2)\n",
    "        / np.sqrt(x[0] ** 2 + x[1] ** 2 + x[2] ** 2 + x[3] ** 2)\n",
    "    )\n",
    "    return np.array([beta2, -beta1 / 2, beta1 / 2, -beta0 / 2, beta0 / 2])\n",
    "\n",
    "def statepreparation(a):\n",
    "    qml.RY(a[0], wires=0)\n",
    "\n",
    "    qml.CNOT(wires=[0, 1])\n",
    "    qml.RY(a[1], wires=1)\n",
    "    qml.CNOT(wires=[0, 1])\n",
    "    qml.RY(a[2], wires=1)\n",
    "\n",
    "    qml.PauliX(wires=0)\n",
    "    qml.CNOT(wires=[0, 1])\n",
    "    qml.RY(a[3], wires=1)\n",
    "    qml.CNOT(wires=[0, 1])\n",
    "    qml.RY(a[4], wires=1)\n",
    "    qml.PauliX(wires=0)"
   ]
  },
  {
   "cell_type": "markdown",
   "id": "attended-twelve",
   "metadata": {},
   "source": [
    "The previous function give the rotation angles and prepare the state in orted to encode a vector $\\mathbf{x}$ in its amplitudes respectively. Lets see if it works."
   ]
  },
  {
   "cell_type": "code",
   "execution_count": 19,
   "id": "identified-territory",
   "metadata": {},
   "outputs": [
    {
     "name": "stdout",
     "output_type": "stream",
     "text": [
      "x               :  [0.5 0.5 0.5 0.5]\n",
      "angles          :  [ 1.57079633 -0.78539816  0.78539816 -0.78539816  0.78539816]\n",
      "amplitude vector:  [0.5 0.5 0.5 0.5]\n"
     ]
    }
   ],
   "source": [
    "x = np.array([0.5, 0.5, 0.5, 0.5], requires_grad=False)\n",
    "ang = get_angles(x)\n",
    "\n",
    "\n",
    "@qml.qnode(dev)\n",
    "def test(angles):\n",
    "\n",
    "    statepreparation(angles)\n",
    "\n",
    "    return qml.expval(qml.PauliZ(0))\n",
    "\n",
    "\n",
    "test(ang)\n",
    "\n",
    "print(\"x               : \", x)\n",
    "print(\"angles          : \", ang)\n",
    "print(\"amplitude vector: \", np.real(dev.state))"
   ]
  },
  {
   "cell_type": "markdown",
   "id": "imported-effects",
   "metadata": {},
   "source": [
    "It works! the default.qubit simulatiors provides a function for doing this initialization, however, it is important to know how it is made.\n",
    "\n",
    "Now we modify our previous layer for one with 2 qubits."
   ]
  },
  {
   "cell_type": "code",
   "execution_count": 20,
   "id": "meaningful-duplicate",
   "metadata": {},
   "outputs": [],
   "source": [
    " def layer(W):\n",
    "    qml.Rot(W[0, 0], W[0, 1], W[0, 2], wires=0)\n",
    "    qml.Rot(W[1, 0], W[1, 1], W[1, 2], wires=1)\n",
    "    qml.CNOT(wires=[0, 1])"
   ]
  },
  {
   "cell_type": "markdown",
   "id": "close-surprise",
   "metadata": {},
   "source": [
    "The cost and the variational classifier remain the same, we just have to reload them using the new layer"
   ]
  },
  {
   "cell_type": "code",
   "execution_count": 21,
   "id": "honey-sister",
   "metadata": {},
   "outputs": [],
   "source": [
    "@qml.qnode(dev)\n",
    "def circuit(weights, angles):\n",
    "    statepreparation(angles)\n",
    "\n",
    "    for W in weights:\n",
    "        layer(W)\n",
    "\n",
    "    return qml.expval(qml.PauliZ(0))\n",
    "\n",
    "\n",
    "def variational_classifier(var, angles):\n",
    "    weights = var[0]\n",
    "    bias = var[1]\n",
    "    return circuit(weights, angles) + bias\n",
    "\n",
    "\n",
    "def cost(weights, features, labels):\n",
    "    predictions = [variational_classifier(weights, f) for f in features]\n",
    "    return square_loss(labels, predictions)"
   ]
  },
  {
   "cell_type": "markdown",
   "id": "alive-shade",
   "metadata": {},
   "source": [
    "## Data\n",
    "\n",
    "Now we load the Iris data set which is in the folder `variational_classifier/data`. This is a dataset of two dimmensional vectors, we will pad this into 4 dimensional vectorss and then we are going to normalize it.\n"
   ]
  },
  {
   "cell_type": "code",
   "execution_count": 39,
   "id": "interesting-variety",
   "metadata": {},
   "outputs": [
    {
     "name": "stdout",
     "output_type": "stream",
     "text": [
      "First X sample (original)  : [0.4  0.75]\n",
      "First X sample (padded)    : [0.4  0.75 0.3  0.  ]\n",
      "First X sample (normalized): [0.44376016 0.83205029 0.33282012 0.        ]\n",
      "First features sample      : [ 0.67858523 -0.          0.         -1.080839    1.080839  ]\n"
     ]
    }
   ],
   "source": [
    "data = np.loadtxt(\"variational_classifier/data/iris_classes1and2_scaled.txt\")\n",
    "X = data[:, 0:2]\n",
    "print(\"First X sample (original)  :\", X[0])\n",
    "\n",
    "# pad the vectors to size 2^2 with constant values\n",
    "padding = 0.3 * np.ones((len(X), 1))\n",
    "X_pad = np.c_[np.c_[X, padding], np.zeros((len(X), 1))]\n",
    "print(\"First X sample (padded)    :\", X_pad[0])\n",
    "\n",
    "# normalize each input\n",
    "normalization = np.sqrt(np.sum(X_pad ** 2, -1))\n",
    "X_norm = (X_pad.T / normalization).T\n",
    "print(\"First X sample (normalized):\", X_norm[0])\n",
    "\n",
    "# angles for state preparation are new features\n",
    "features = np.array([get_angles(x) for x in X_norm])\n",
    "print(\"First features sample      :\", features[0])\n",
    "\n",
    "Y = data[:, -1]"
   ]
  },
  {
   "cell_type": "markdown",
   "id": "blocked-graph",
   "metadata": {},
   "source": [
    "The new features are the angles, which are the ones to be taken into account for the classification. Lets graph some of the previous vectors and see what we have done,"
   ]
  },
  {
   "cell_type": "code",
   "execution_count": 40,
   "id": "accepted-shift",
   "metadata": {},
   "outputs": [
    {
     "data": {
      "image/png": "[encoded data removed]",
      "text/plain": [
       "<Figure size 432x288 with 1 Axes>"
      ]
     },
     "metadata": {
      "needs_background": "light"
     },
     "output_type": "display_data"
    },
    {
     "data": {
      "image/png": "[encoded data removed]",
      "text/plain": [
       "<Figure size 432x288 with 1 Axes>"
      ]
     },
     "metadata": {
      "needs_background": "light"
     },
     "output_type": "display_data"
    },
    {
     "data": {
      "image/png": "[encoded data removed]",
      "text/plain": [
       "<Figure size 432x288 with 1 Axes>"
      ]
     },
     "metadata": {
      "needs_background": "light"
     },
     "output_type": "display_data"
    }
   ],
   "source": [
    "import matplotlib.pyplot as plt\n",
    "\n",
    "plt.figure()\n",
    "plt.scatter(X[:, 0][Y == 1], X[:, 1][Y == 1], c=\"b\", marker=\"o\", edgecolors=\"k\")\n",
    "plt.scatter(X[:, 0][Y == -1], X[:, 1][Y == -1], c=\"r\", marker=\"o\", edgecolors=\"k\")\n",
    "plt.title(\"Original data\")\n",
    "plt.show()\n",
    "\n",
    "plt.figure()\n",
    "dim1 = 0\n",
    "dim2 = 1\n",
    "plt.scatter(\n",
    "    X_norm[:, dim1][Y == 1], X_norm[:, dim2][Y == 1], c=\"b\", marker=\"o\", edgecolors=\"k\"\n",
    ")\n",
    "plt.scatter(\n",
    "    X_norm[:, dim1][Y == -1], X_norm[:, dim2][Y == -1], c=\"r\", marker=\"o\", edgecolors=\"k\"\n",
    ")\n",
    "plt.title(\"Padded and normalised data (dims {} and {})\".format(dim1, dim2))\n",
    "plt.show()\n",
    "\n",
    "plt.figure()\n",
    "dim1 = 0\n",
    "dim2 = 3\n",
    "plt.scatter(\n",
    "    features[:, dim1][Y == 1], features[:, dim2][Y == 1], c=\"b\", marker=\"o\", edgecolors=\"k\"\n",
    ")\n",
    "plt.scatter(\n",
    "    features[:, dim1][Y == -1], features[:, dim2][Y == -1], c=\"r\", marker=\"o\", edgecolors=\"k\"\n",
    ")\n",
    "plt.title(\"Feature vectors (dims {} and {})\".format(dim1, dim2))\n",
    "plt.show()"
   ]
  },
  {
   "cell_type": "markdown",
   "id": "distinguished-constitution",
   "metadata": {},
   "source": [
    "Now we split up the data into a train and validation set"
   ]
  },
  {
   "cell_type": "code",
   "execution_count": 41,
   "id": "dramatic-heart",
   "metadata": {},
   "outputs": [],
   "source": [
    "np.random.seed(0)\n",
    "num_data = len(Y)\n",
    "num_train = int(0.75 * num_data)\n",
    "index = np.random.permutation(range(num_data))\n",
    "feats_train = features[index[:num_train]]\n",
    "Y_train = Y[index[:num_train]]\n",
    "feats_val = features[index[num_train:]]\n",
    "Y_val = Y[index[num_train:]]\n",
    "\n",
    "# We need these later for plotting\n",
    "X_train = X[index[:num_train]]\n",
    "X_val = X[index[num_train:]]"
   ]
  },
  {
   "cell_type": "markdown",
   "id": "fiscal-turkish",
   "metadata": {},
   "source": [
    "## Optimization\n",
    "\n",
    "Again, lets set the number of qubits, number of layer and initial values of the optimicer"
   ]
  },
  {
   "cell_type": "code",
   "execution_count": 42,
   "id": "rotary-column",
   "metadata": {},
   "outputs": [],
   "source": [
    "num_qubits = 2\n",
    "num_layers = 6\n",
    "var_init = (0.01 * np.random.randn(num_layers, num_qubits, 3), 0.0)"
   ]
  },
  {
   "cell_type": "markdown",
   "id": "deluxe-manner",
   "metadata": {},
   "source": [
    "Now we optimize the cost function"
   ]
  },
  {
   "cell_type": "code",
   "execution_count": 43,
   "id": "recovered-large",
   "metadata": {},
   "outputs": [
    {
     "name": "stdout",
     "output_type": "stream",
     "text": [
      "Iter:     1 | Cost: 1.4490948 | Acc train: 0.4933333 | Acc validation: 0.5600000 \n",
      "Iter:     2 | Cost: 1.3309953 | Acc train: 0.4933333 | Acc validation: 0.5600000 \n",
      "Iter:     3 | Cost: 1.1582178 | Acc train: 0.4533333 | Acc validation: 0.5600000 \n",
      "Iter:     4 | Cost: 0.9795035 | Acc train: 0.4800000 | Acc validation: 0.5600000 \n",
      "Iter:     5 | Cost: 0.8857893 | Acc train: 0.6400000 | Acc validation: 0.7600000 \n",
      "Iter:     6 | Cost: 0.8587935 | Acc train: 0.7066667 | Acc validation: 0.7600000 \n",
      "Iter:     7 | Cost: 0.8496204 | Acc train: 0.7200000 | Acc validation: 0.6800000 \n",
      "Iter:     8 | Cost: 0.8200972 | Acc train: 0.7333333 | Acc validation: 0.6800000 \n",
      "Iter:     9 | Cost: 0.8027511 | Acc train: 0.7466667 | Acc validation: 0.6800000 \n",
      "Iter:    10 | Cost: 0.7695152 | Acc train: 0.8000000 | Acc validation: 0.7600000 \n",
      "Iter:    11 | Cost: 0.7437432 | Acc train: 0.8133333 | Acc validation: 0.9600000 \n",
      "Iter:    12 | Cost: 0.7569196 | Acc train: 0.6800000 | Acc validation: 0.7600000 \n",
      "Iter:    13 | Cost: 0.7887487 | Acc train: 0.6533333 | Acc validation: 0.7200000 \n",
      "Iter:    14 | Cost: 0.8401458 | Acc train: 0.6133333 | Acc validation: 0.6400000 \n",
      "Iter:    15 | Cost: 0.8651830 | Acc train: 0.5600000 | Acc validation: 0.6000000 \n",
      "Iter:    16 | Cost: 0.8726113 | Acc train: 0.5600000 | Acc validation: 0.6000000 \n",
      "Iter:    17 | Cost: 0.8389732 | Acc train: 0.6133333 | Acc validation: 0.6400000 \n",
      "Iter:    18 | Cost: 0.8004839 | Acc train: 0.6266667 | Acc validation: 0.6400000 \n",
      "Iter:    19 | Cost: 0.7592044 | Acc train: 0.6800000 | Acc validation: 0.7600000 \n",
      "Iter:    20 | Cost: 0.7332872 | Acc train: 0.7733333 | Acc validation: 0.8000000 \n",
      "Iter:    21 | Cost: 0.7184319 | Acc train: 0.8800000 | Acc validation: 0.9600000 \n",
      "Iter:    22 | Cost: 0.7336631 | Acc train: 0.8133333 | Acc validation: 0.7200000 \n",
      "Iter:    23 | Cost: 0.7503193 | Acc train: 0.6533333 | Acc validation: 0.6400000 \n",
      "Iter:    24 | Cost: 0.7608474 | Acc train: 0.5866667 | Acc validation: 0.5200000 \n",
      "Iter:    25 | Cost: 0.7443533 | Acc train: 0.6533333 | Acc validation: 0.6400000 \n",
      "Iter:    26 | Cost: 0.7383224 | Acc train: 0.7066667 | Acc validation: 0.6400000 \n",
      "Iter:    27 | Cost: 0.7322155 | Acc train: 0.7466667 | Acc validation: 0.6800000 \n",
      "Iter:    28 | Cost: 0.7384175 | Acc train: 0.6533333 | Acc validation: 0.6400000 \n",
      "Iter:    29 | Cost: 0.7393227 | Acc train: 0.6400000 | Acc validation: 0.6400000 \n",
      "Iter:    30 | Cost: 0.7251903 | Acc train: 0.7200000 | Acc validation: 0.6800000 \n",
      "Iter:    31 | Cost: 0.7125040 | Acc train: 0.7866667 | Acc validation: 0.6800000 \n",
      "Iter:    32 | Cost: 0.6932690 | Acc train: 0.9066667 | Acc validation: 0.9200000 \n",
      "Iter:    33 | Cost: 0.6800562 | Acc train: 0.9200000 | Acc validation: 1.0000000 \n",
      "Iter:    34 | Cost: 0.6763140 | Acc train: 0.9200000 | Acc validation: 0.9600000 \n",
      "Iter:    35 | Cost: 0.6790040 | Acc train: 0.8933333 | Acc validation: 0.8800000 \n",
      "Iter:    36 | Cost: 0.6936199 | Acc train: 0.7600000 | Acc validation: 0.7200000 \n",
      "Iter:    37 | Cost: 0.6767184 | Acc train: 0.8266667 | Acc validation: 0.8000000 \n",
      "Iter:    38 | Cost: 0.6712470 | Acc train: 0.8266667 | Acc validation: 0.8000000 \n",
      "Iter:    39 | Cost: 0.6747390 | Acc train: 0.7600000 | Acc validation: 0.7600000 \n",
      "Iter:    40 | Cost: 0.6845696 | Acc train: 0.6666667 | Acc validation: 0.6400000 \n",
      "Iter:    41 | Cost: 0.6703303 | Acc train: 0.7333333 | Acc validation: 0.7200000 \n",
      "Iter:    42 | Cost: 0.6238401 | Acc train: 0.8933333 | Acc validation: 0.8400000 \n",
      "Iter:    43 | Cost: 0.6028185 | Acc train: 0.9066667 | Acc validation: 0.9200000 \n",
      "Iter:    44 | Cost: 0.5936355 | Acc train: 0.9066667 | Acc validation: 0.9200000 \n",
      "Iter:    45 | Cost: 0.5722417 | Acc train: 0.9200000 | Acc validation: 0.9600000 \n",
      "Iter:    46 | Cost: 0.5617923 | Acc train: 0.9200000 | Acc validation: 0.9600000 \n",
      "Iter:    47 | Cost: 0.5413240 | Acc train: 0.9466667 | Acc validation: 1.0000000 \n",
      "Iter:    48 | Cost: 0.5239643 | Acc train: 0.9466667 | Acc validation: 1.0000000 \n",
      "Iter:    49 | Cost: 0.5100842 | Acc train: 0.9466667 | Acc validation: 1.0000000 \n",
      "Iter:    50 | Cost: 0.5006861 | Acc train: 0.9466667 | Acc validation: 1.0000000 \n",
      "Iter:    51 | Cost: 0.4821672 | Acc train: 0.9466667 | Acc validation: 1.0000000 \n",
      "Iter:    52 | Cost: 0.4579575 | Acc train: 0.9600000 | Acc validation: 1.0000000 \n",
      "Iter:    53 | Cost: 0.4397479 | Acc train: 1.0000000 | Acc validation: 1.0000000 \n",
      "Iter:    54 | Cost: 0.4326879 | Acc train: 0.9600000 | Acc validation: 0.9200000 \n",
      "Iter:    55 | Cost: 0.4351511 | Acc train: 0.9466667 | Acc validation: 0.9200000 \n",
      "Iter:    56 | Cost: 0.4328988 | Acc train: 0.9333333 | Acc validation: 0.9200000 \n",
      "Iter:    57 | Cost: 0.4149892 | Acc train: 0.9333333 | Acc validation: 0.9200000 \n",
      "Iter:    58 | Cost: 0.3755246 | Acc train: 0.9600000 | Acc validation: 0.9200000 \n",
      "Iter:    59 | Cost: 0.3468994 | Acc train: 1.0000000 | Acc validation: 1.0000000 \n",
      "Iter:    60 | Cost: 0.3297071 | Acc train: 1.0000000 | Acc validation: 1.0000000 \n"
     ]
    }
   ],
   "source": [
    "opt = NesterovMomentumOptimizer(0.01)\n",
    "batch_size = 5\n",
    "\n",
    "# train the variational classifier\n",
    "var = var_init\n",
    "for it in range(60):\n",
    "\n",
    "    # Update the weights by one optimizer step\n",
    "    batch_index = np.random.randint(0, num_train, (batch_size,))\n",
    "    feats_train_batch = feats_train[batch_index]\n",
    "    Y_train_batch = Y_train[batch_index]\n",
    "    var = opt.step(lambda v: cost(v, feats_train_batch, Y_train_batch), var)\n",
    "\n",
    "    # Compute predictions on train and validation set\n",
    "    predictions_train = [np.sign(variational_classifier(var, f)) for f in feats_train]\n",
    "    predictions_val = [np.sign(variational_classifier(var, f)) for f in feats_val]\n",
    "\n",
    "    # Compute accuracy on train and validation set\n",
    "    acc_train = accuracy(Y_train, predictions_train)\n",
    "    acc_val = accuracy(Y_val, predictions_val)\n",
    "\n",
    "    print(\n",
    "        \"Iter: {:5d} | Cost: {:0.7f} | Acc train: {:0.7f} | Acc validation: {:0.7f} \"\n",
    "        \"\".format(it + 1, cost(var, features, Y), acc_train, acc_val)\n",
    "    )"
   ]
  },
  {
   "cell_type": "markdown",
   "id": "amended-divide",
   "metadata": {},
   "source": [
    "The classifier is working properly since we can see how the cost function is being reduced. Now we plot the decisión regions and the classified data"
   ]
  },
  {
   "cell_type": "code",
   "execution_count": 44,
   "id": "gorgeous-swiss",
   "metadata": {},
   "outputs": [
    {
     "data": {
      "image/png": "[encoded data removed]",
      "text/plain": [
       "<Figure size 432x288 with 2 Axes>"
      ]
     },
     "metadata": {
      "needs_background": "light"
     },
     "output_type": "display_data"
    }
   ],
   "source": []
  },
  {
   "cell_type": "code",
   "execution_count": null,
   "id": "broadband-second",
   "metadata": {},
   "outputs": [],
   "source": []
  },
  {
   "cell_type": "code",
   "execution_count": null,
   "id": "frozen-picnic",
   "metadata": {},
   "outputs": [],
   "source": []
  }
 ],
 "metadata": {
  "kernelspec": {
   "display_name": "Python 3",
   "language": "python",
   "name": "python3"
  },
  "language_info": {
   "codemirror_mode": {
    "name": "ipython",
    "version": 3
   },
   "file_extension": ".py",
   "mimetype": "text/x-python",
   "name": "python",
   "nbconvert_exporter": "python",
   "pygments_lexer": "ipython3",
   "version": "3.8.5"
  }
 },
 "nbformat": 4,
 "nbformat_minor": 5
}
